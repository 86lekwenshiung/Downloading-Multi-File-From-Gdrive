{
  "nbformat": 4,
  "nbformat_minor": 0,
  "metadata": {
    "colab": {
      "provenance": [],
      "mount_file_id": "1F7OlmYX7N1kTgg_tpA3P4ApUq0Y-X4Ga",
      "authorship_tag": "ABX9TyPRV1eCEyH/D44O+/KHIphp",
      "include_colab_link": true
    },
    "kernelspec": {
      "name": "python3",
      "display_name": "Python 3"
    },
    "language_info": {
      "name": "python"
    },
    "gpuClass": "standard"
  },
  "cells": [
    {
      "cell_type": "markdown",
      "metadata": {
        "id": "view-in-github",
        "colab_type": "text"
      },
      "source": [
        "<a href=\"https://colab.research.google.com/github/86lekwenshiung/Downloading-Multi-File-From-Gdrive/blob/main/Gdrive_filelist_download.ipynb\" target=\"_parent\"><img src=\"https://colab.research.google.com/assets/colab-badge.svg\" alt=\"Open In Colab\"/></a>"
      ]
    },
    {
      "cell_type": "code",
      "execution_count": 1,
      "metadata": {
        "colab": {
          "base_uri": "https://localhost:8080/"
        },
        "id": "vU1S02S5aF9b",
        "outputId": "5fd904a0-fac0-4e41-bf28-51826caaedf9"
      },
      "outputs": [
        {
          "output_type": "stream",
          "name": "stdout",
          "text": [
            "Mounted at /content/gdrive\n"
          ]
        }
      ],
      "source": [
        "from google.colab import drive\n",
        "drive.mount('/content/gdrive')"
      ]
    },
    {
      "cell_type": "code",
      "source": [
        "# Install the PyDrive wrapper & import libraries.\n",
        "from pydrive.auth import GoogleAuth\n",
        "from pydrive.drive import GoogleDrive\n",
        "from google.colab import auth\n",
        "from oauth2client.client import GoogleCredentials\n",
        "\n",
        "# Authenticate and create the PyDrive client.\n",
        "auth.authenticate_user()\n",
        "gauth = GoogleAuth()\n",
        "gauth.credentials = GoogleCredentials.get_application_default()\n",
        "drive = GoogleDrive(gauth)"
      ],
      "metadata": {
        "id": "bD4hNJpWk9Xr"
      },
      "execution_count": 2,
      "outputs": []
    },
    {
      "cell_type": "code",
      "source": [
        "import pandas as pd\n",
        "import os\n",
        "\n",
        "google_drive_folder = 'https://drive.google.com/file/d/1w9J317D-c3beb9BXTNchggUFeAmMHl4w/view?usp=share_link'\n",
        "\n",
        "#Depend\n",
        "file_id = '1w9J317D-c3beb9BXTNchggUFeAmMHl4w'\n",
        "downloaded = drive.CreateFile({'id':file_id})\n",
        "downloaded.GetContentFile('PSD MMS (For Terence).txt')\n",
        "\n",
        "df = pd.read_csv('PSD MMS (For Terence).txt' , header = None)\n",
        "df.rename(columns = {0:'col'} , inplace = True)\n",
        "df = df[df['col'].str.contains('https://drive.google.com')]"
      ],
      "metadata": {
        "id": "7eXYZFq9iT-T"
      },
      "execution_count": 3,
      "outputs": []
    },
    {
      "cell_type": "code",
      "source": [
        "df = pd.read_csv('PSD MMS (For Terence).txt' , header = None)\n",
        "df.rename(columns = {0:'col'} , inplace = True)\n",
        "df = df[df['col'].str.contains('https://drive.google.com')]\n",
        "\n",
        "def extract_second_last_item(s):\n",
        "  items = s.split('/')\n",
        "  return items[-2]\n",
        "\n",
        "df['id'] = df['col'].apply(extract_second_last_item)"
      ],
      "metadata": {
        "id": "2MH5b6ifl7c7"
      },
      "execution_count": 4,
      "outputs": []
    },
    {
      "cell_type": "code",
      "source": [
        "location  = '/content/gdrive/MyDrive/temp_download_folder/'\n",
        "\n",
        "for to_download_file in df['id']:\n",
        "  file_id = to_download_file\n",
        "  downloaded = drive.CreateFile({'id':file_id})\n",
        "  downloaded.FetchMetadata(fetch_all=True)\n",
        "\n",
        "  full_path = location + downloaded.metadata['title']\n",
        "\n",
        "  downloaded.GetContentFile(full_path)"
      ],
      "metadata": {
        "id": "FA9l8aVmcwX0"
      },
      "execution_count": 7,
      "outputs": []
    },
    {
      "cell_type": "code",
      "source": [
        "# from google.colab import files\n",
        "# import shutil\n",
        "\n",
        "# for to_download_file in os.listdir('/content'):\n",
        "#   if to_download_file.endswith('.7z'):\n",
        "#     files.download(to_download_file)"
      ],
      "metadata": {
        "id": "Wn--D72ksysx"
      },
      "execution_count": 8,
      "outputs": []
    },
    {
      "cell_type": "code",
      "source": [],
      "metadata": {
        "id": "xyIJrWQETLYs"
      },
      "execution_count": null,
      "outputs": []
    }
  ]
}